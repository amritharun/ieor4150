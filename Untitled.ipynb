{
 "cells": [
  {
   "cell_type": "code",
   "execution_count": 92,
   "metadata": {},
   "outputs": [],
   "source": [
    "import yfinance as yf\n",
    "import math\n",
    "import numpy as np\n",
    "from sklearn import preprocessing\n",
    "import matplotlib.pyplot as plt\n",
    "import pandas as pd\n",
    "from scipy.stats import t,chi2"
   ]
  },
  {
   "cell_type": "code",
   "execution_count": 93,
   "metadata": {},
   "outputs": [],
   "source": [
    "tickers = [\"MSFT\",\"AAPL\",\"GOOGL\",\"AMZN\",\"FB\"]\n",
    "spec_ticker = \"MSFT\"\n",
    "conf_int = 0.9"
   ]
  },
  {
   "cell_type": "code",
   "execution_count": 94,
   "metadata": {},
   "outputs": [],
   "source": [
    "tickersdata = {ticker : yf.Ticker(ticker).history(period = '1d',start = '2013-2-28',end = '2020-10-10')[['Open','Close']] for ticker in tickers }"
   ]
  },
  {
   "cell_type": "code",
   "execution_count": 95,
   "metadata": {},
   "outputs": [],
   "source": [
    "tickerslog = {ticker : np.log(tickersdata[ticker]['Close']) / np.log(tickersdata[ticker]['Open']) for ticker in tickers}"
   ]
  },
  {
   "cell_type": "code",
   "execution_count": 104,
   "metadata": {},
   "outputs": [],
   "source": [
    "# tickerslog[tickerslog.index.month == 12].head()\n",
    "months = [3,4,5]\n",
    "for temp in tickers:\n",
    "    tickerslog[temp] = tickerslog[temp][tickerslog[temp].index.month.isin(months)]"
   ]
  },
  {
   "cell_type": "code",
   "execution_count": 105,
   "metadata": {},
   "outputs": [],
   "source": [
    "def plotnormal(data,interval):\n",
    "    #we standardize first makeing the sample having mean 0 and variance 1\n",
    "    data_standard = preprocessing.scale(data)\n",
    "    #after that we need to group the data in small interval. \n",
    "    data_cut = pd.cut(data_standard,interval)\n",
    "    datafinal = data.groupby(data_cut)\n",
    "    plt.plot(np.linspace(3,-3,interval),datafinal.count())\n",
    "    return datafinal"
   ]
  },
  {
   "cell_type": "code",
   "execution_count": 106,
   "metadata": {
    "jupyter": {
     "outputs_hidden": true
    },
    "scrolled": true
   },
   "outputs": [
    {
     "data": {
      "text/plain": [
       "<pandas.core.groupby.generic.SeriesGroupBy object at 0x7fdefca8aef0>"
      ]
     },
     "execution_count": 106,
     "metadata": {},
     "output_type": "execute_result"
    },
    {
     "data": {
      "image/png": "[encoded data removed]",
      "text/plain": [
       "<Figure size 432x288 with 1 Axes>"
      ]
     },
     "metadata": {
      "needs_background": "light"
     },
     "output_type": "display_data"
    }
   ],
   "source": [
    "plotnormal(tickerslog[spec_ticker],50)"
   ]
  },
  {
   "cell_type": "code",
   "execution_count": 107,
   "metadata": {},
   "outputs": [],
   "source": [
    "def confidence_interval_mean(data,prob):\n",
    "    #we use t distribution here since population variance is unknown\n",
    "    #µ lies in x bar +- t(a/2,n-1) * S/√n\n",
    "    \n",
    "    interval = [0,0]\n",
    "    #upper interval\n",
    "    interval[1] = np.mean(data)+(t.ppf(1-((1-prob)/2),data.count()-1)*np.std(data)/np.sqrt(data.count()))\n",
    "    #lower interval\n",
    "    interval[0] = np.mean(data)-(t.ppf(1-((1-prob)/2),data.count()-1)*np.std(data)/np.sqrt(data.count()))\n",
    "    return interval\n",
    "\n",
    "\n",
    "\n",
    "def confidence_interval_var(data,prob):\n",
    "    #we use chisquare here\n",
    "    interval = [0,0]\n",
    "    interval[1] = (data.count()-1)*np.var(data)/chi2.ppf(1-(1-prob)/2,data.count()-1)\n",
    "    interval[0] = (data.count()-1)*np.var(data)/chi2.ppf((1-prob)/2,data.count()-1)\n",
    "    return interval"
   ]
  },
  {
   "cell_type": "code",
   "execution_count": 108,
   "metadata": {},
   "outputs": [
    {
     "data": {
      "text/plain": [
       "[1.0001587916409498, 1.000631516213612]"
      ]
     },
     "execution_count": 108,
     "metadata": {},
     "output_type": "execute_result"
    }
   ],
   "source": [
    "confidence_interval_mean(tickerslog[spec_ticker],conf_int)"
   ]
  },
  {
   "cell_type": "code",
   "execution_count": 109,
   "metadata": {},
   "outputs": [
    {
     "data": {
      "text/plain": [
       "2.5705818366147395"
      ]
     },
     "execution_count": 109,
     "metadata": {},
     "output_type": "execute_result"
    }
   ],
   "source": [
    "t.ppf(0.975,5)"
   ]
  },
  {
   "cell_type": "code",
   "execution_count": 110,
   "metadata": {},
   "outputs": [],
   "source": [
    "x = tickerslog[spec_ticker].to_numpy().reshape(-1,1)\n",
    "y = [i for i in range(len(x))]"
   ]
  },
  {
   "cell_type": "code",
   "execution_count": 111,
   "metadata": {},
   "outputs": [
    {
     "name": "stdout",
     "output_type": "stream",
     "text": [
      "Coefficients: \n",
      " [-4133.90398493]\n"
     ]
    },
    {
     "data": {
      "image/png": "[encoded data removed]",
      "text/plain": [
       "<Figure size 432x288 with 1 Axes>"
      ]
     },
     "metadata": {},
     "output_type": "display_data"
    }
   ],
   "source": [
    "from sklearn import datasets, linear_model\n",
    "\n",
    "# Create linear regression object\n",
    "regr = linear_model.LinearRegression()\n",
    "\n",
    "# Train the model using the training sets\n",
    "regr.fit(x, y)\n",
    "\n",
    "# The coefficients\n",
    "print('Coefficients: \\n', regr.coef_)\n",
    "\n",
    "# Plot outputs\n",
    "plt.scatter(x, y,  color='black')\n",
    "plt.plot(x, regr.predict(x), color='blue', linewidth=3)\n",
    "\n",
    "plt.xticks(())\n",
    "plt.yticks(())\n",
    "\n",
    "plt.show()"
   ]
  },
  {
   "cell_type": "code",
   "execution_count": null,
   "metadata": {},
   "outputs": [],
   "source": [
    "ticker1 = \"MSFT\"\n",
    "ticker2 = \"AAPL\"\n",
    "\n"
   ]
  },
  {
   "cell_type": "code",
   "execution_count": null,
   "metadata": {},
   "outputs": [],
   "source": []
  }
 ],
 "metadata": {
  "kernelspec": {
   "display_name": "Python 3",
   "language": "python",
   "name": "python3"
  }
 },
 "nbformat": 4,
 "nbformat_minor": 4
}
