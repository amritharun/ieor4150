{
 "cells": [
  {
   "cell_type": "code",
   "execution_count": 118,
   "metadata": {},
   "outputs": [],
   "source": [
    "import yfinance as yf\n",
    "import math\n",
    "import numpy as np\n",
    "from sklearn import preprocessing\n",
    "import matplotlib.pyplot as plt\n",
    "import pandas as pd\n",
    "from scipy.stats import t,chi2\n",
    "from scipy.stats import ttest_ind\n",
    "from sklearn import datasets, linear_model\n",
    "from sklearn.metrics import r2_score"
   ]
  },
  {
   "cell_type": "markdown",
   "metadata": {},
   "source": [
    "### One Ticker Symbol"
   ]
  },
  {
   "cell_type": "code",
   "execution_count": 119,
   "metadata": {},
   "outputs": [],
   "source": [
    "spec_ticker = \"AAPL\"\n",
    "conf_int = 0.9"
   ]
  },
  {
   "cell_type": "code",
   "execution_count": 120,
   "metadata": {},
   "outputs": [],
   "source": [
    "tickers = [\"MSFT\",\"AAPL\",\"GOOGL\",\"AMZN\",\"FB\"]\n",
    "tickersdata = {ticker : yf.Ticker(ticker).history(period = '1d',start = '2020-3-1',end = '2020-5-31')[['Open','Close']] for ticker in tickers }"
   ]
  },
  {
   "cell_type": "code",
   "execution_count": 121,
   "metadata": {},
   "outputs": [],
   "source": [
    "tickerslog = {ticker : np.log(tickersdata[ticker]['Close']) - np.log(tickersdata[ticker]['Open']) for ticker in tickers}"
   ]
  },
  {
   "cell_type": "code",
   "execution_count": 122,
   "metadata": {},
   "outputs": [
    {
     "data": {
      "image/png": "[encoded data removed]",
      "text/plain": [
       "<Figure size 432x288 with 1 Axes>"
      ]
     },
     "metadata": {
      "needs_background": "light"
     },
     "output_type": "display_data"
    }
   ],
   "source": [
    "def plothist(data, bins=10):\n",
    "    fig, ax = plt.subplots()\n",
    "    data.plot.hist(density=False, ax=ax, bins=bins)\n",
    "    plt.show()\n",
    "plothist(tickerslog[spec_ticker],15)"
   ]
  },
  {
   "cell_type": "code",
   "execution_count": 123,
   "metadata": {},
   "outputs": [
    {
     "data": {
      "image/png": "[encoded data removed]",
      "text/plain": [
       "<Figure size 432x288 with 1 Axes>"
      ]
     },
     "metadata": {
      "needs_background": "light"
     },
     "output_type": "display_data"
    }
   ],
   "source": [
    "def plotnormal(data,interval):\n",
    "    fig, ax = plt.subplots()\n",
    "    data.plot.kde(ax=ax, legend=False)\n",
    "    data.plot.hist(density=True, ax=ax)\n",
    "    plt.show()\n",
    "plotnormal(tickerslog[spec_ticker],40)"
   ]
  },
  {
   "cell_type": "code",
   "execution_count": 124,
   "metadata": {},
   "outputs": [],
   "source": [
    "def confidence_interval_mean(data,prob):\n",
    "    #we use t distribution here since population variance is unknown\n",
    "    #µ lies in x bar +- t(a/2,n-1) * S/√n\n",
    "    \n",
    "    interval = [0,0]\n",
    "    #upper interval\n",
    "    interval[1] = np.mean(data)+(t.ppf(1-((1-prob)/2),data.count()-1)*np.std(data)/np.sqrt(data.count()))\n",
    "    #lower interval\n",
    "    interval[0] = np.mean(data)-(t.ppf(1-((1-prob)/2),data.count()-1)*np.std(data)/np.sqrt(data.count()))\n",
    "    return interval\n",
    "\n",
    "def confidence_interval_var(data,prob):\n",
    "    interval = [0,0]\n",
    "    interval[1] = (data.count()-1)*np.var(data)/chi2.ppf(1-(1-prob)/2,data.count()-1)\n",
    "    interval[0] = (data.count()-1)*np.var(data)/chi2.ppf((1-prob)/2,data.count()-1)\n",
    "    return interval"
   ]
  },
  {
   "cell_type": "code",
   "execution_count": 125,
   "metadata": {},
   "outputs": [
    {
     "data": {
      "text/plain": [
       "[-0.0014161941097047635, 0.008405683853143156]"
      ]
     },
     "execution_count": 125,
     "metadata": {},
     "output_type": "execute_result"
    }
   ],
   "source": [
    "confidence_interval_mean(tickerslog[spec_ticker],conf_int)"
   ]
  },
  {
   "cell_type": "code",
   "execution_count": 126,
   "metadata": {},
   "outputs": [
    {
     "data": {
      "text/plain": [
       "2.5705818366147395"
      ]
     },
     "execution_count": 126,
     "metadata": {},
     "output_type": "execute_result"
    }
   ],
   "source": [
    "t.ppf(0.975,5)"
   ]
  },
  {
   "cell_type": "code",
   "execution_count": 127,
   "metadata": {},
   "outputs": [],
   "source": [
    "def plot_regression(x,y):\n",
    "    regr = linear_model.LinearRegression()\n",
    "    regr.fit(x, y)\n",
    "    print('Coefficients: ', regr.coef_)\n",
    "    print('Intercept:', regr.intercept_)\n",
    "    print('R2: ', r2_score(y,regr.predict(x)))\n",
    "    plt.scatter(x, y,  color='black')\n",
    "    plt.plot(x, regr.predict(x), color='blue', linewidth=3)\n",
    "    plt.xticks(())\n",
    "    plt.yticks(())\n",
    "    plt.show()"
   ]
  },
  {
   "cell_type": "code",
   "execution_count": 128,
   "metadata": {},
   "outputs": [
    {
     "name": "stdout",
     "output_type": "stream",
     "text": [
      "Coefficients:  [-39.2606219]\n",
      "Intercept: 31.137205857047803\n",
      "R2:  0.002540168223706285\n"
     ]
    },
    {
     "data": {
      "image/png": "[encoded data removed]",
      "text/plain": [
       "<Figure size 432x288 with 1 Axes>"
      ]
     },
     "metadata": {},
     "output_type": "display_data"
    }
   ],
   "source": [
    "x = tickerslog[spec_ticker].to_numpy().reshape(-1,1)\n",
    "y = [i for i in range(len(x))]\n",
    "plot_regression(x,y)"
   ]
  },
  {
   "cell_type": "markdown",
   "metadata": {},
   "source": [
    "### Two Ticker Symbols"
   ]
  },
  {
   "cell_type": "code",
   "execution_count": 129,
   "metadata": {},
   "outputs": [],
   "source": [
    "ticker1 = \"MSFT\"\n",
    "ticker2 = \"AAPL\""
   ]
  },
  {
   "cell_type": "code",
   "execution_count": 130,
   "metadata": {},
   "outputs": [
    {
     "name": "stdout",
     "output_type": "stream",
     "text": [
      "p: 0.5668\n",
      "Accept Null\n"
     ]
    }
   ],
   "source": [
    "stock1_mean = np.mean(tickerslog[ticker1])\n",
    "stock2_mean = np.mean(tickerslog[ticker2])\n",
    "stock1_std = np.std(tickerslog[ticker1])\n",
    "stock2_std = np.std(tickerslog[ticker2])\n",
    "ttest,p = ttest_ind(tickerslog[ticker1],tickerslog[ticker2])\n",
    "print(\"p:\",round(p,4))\n",
    "if p < 0.05:\n",
    "  print(\"Reject Null\")\n",
    "else:\n",
    "  print(\"Accept Null\")"
   ]
  },
  {
   "cell_type": "code",
   "execution_count": 131,
   "metadata": {},
   "outputs": [
    {
     "name": "stdout",
     "output_type": "stream",
     "text": [
      "Coefficients:  [[0.8207947]]\n",
      "Intercept: [0.00266126]\n",
      "R2:  0.7548997918330654\n"
     ]
    },
    {
     "data": {
      "image/png": "[encoded data removed]",
      "text/plain": [
       "<Figure size 432x288 with 1 Axes>"
      ]
     },
     "metadata": {},
     "output_type": "display_data"
    }
   ],
   "source": [
    "x = tickerslog[ticker1].to_numpy().reshape(-1,1)\n",
    "y = tickerslog[ticker2].to_numpy().reshape(-1,1)\n",
    "plot_regression(x,y)"
   ]
  }
 ],
 "metadata": {
  "kernelspec": {
   "display_name": "Python 3",
   "language": "python",
   "name": "python3"
  },
  "language_info": {
   "codemirror_mode": {
    "name": "ipython",
    "version": 3
   },
   "file_extension": ".py",
   "mimetype": "text/x-python",
   "name": "python",
   "nbconvert_exporter": "python",
   "pygments_lexer": "ipython3",
   "version": "3.8.5"
  }
 },
 "nbformat": 4,
 "nbformat_minor": 4
}
