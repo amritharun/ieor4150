{
 "cells": [
  {
   "cell_type": "code",
   "execution_count": 147,
   "metadata": {},
   "outputs": [],
   "source": [
    "import yfinance as yf\n",
    "import math\n",
    "import numpy as np\n",
    "from sklearn import preprocessing\n",
    "import matplotlib.pyplot as plt\n",
    "import pandas as pd\n",
    "from scipy.stats import t,chi2"
   ]
  },
  {
   "cell_type": "code",
   "execution_count": 60,
   "metadata": {},
   "outputs": [],
   "source": [
    "tickers = [\"MSFT\",\"AAPL\",\"GOOGL\",\"AMZN\",\"FB\"]"
   ]
  },
  {
   "cell_type": "code",
   "execution_count": 77,
   "metadata": {},
   "outputs": [],
   "source": [
    "tickersdata = {ticker : yf.Ticker(ticker).history(period = '1d',start = '2013-2-28',end = '2020-10-10')[['Open','Close']] for ticker in tickers }"
   ]
  },
  {
   "cell_type": "code",
   "execution_count": 78,
   "metadata": {},
   "outputs": [],
   "source": [
    "tickerslog = {ticker : np.log(tickersdata[ticker]['Close']) - np.log(tickersdata[ticker]['Open']) for ticker in tickers}"
   ]
  },
  {
   "cell_type": "code",
   "execution_count": 79,
   "metadata": {},
   "outputs": [
    {
     "data": {
      "text/plain": [
       "Date\n",
       "2013-02-28   -0.002874\n",
       "2013-03-01    0.008263\n",
       "2013-03-04    0.010714\n",
       "2013-03-05    0.002119\n",
       "2013-03-06   -0.004263\n",
       "                ...   \n",
       "2020-10-05    0.015134\n",
       "2020-10-06   -0.014033\n",
       "2020-10-07    0.013289\n",
       "2020-10-08    0.000333\n",
       "2020-10-09    0.021451\n",
       "Length: 1919, dtype: float64"
      ]
     },
     "execution_count": 79,
     "metadata": {},
     "output_type": "execute_result"
    }
   ],
   "source": [
    "tickerslog['MSFT']"
   ]
  },
  {
   "cell_type": "code",
   "execution_count": 80,
   "metadata": {},
   "outputs": [],
   "source": [
    "def plotnormal(data,interval):\n",
    "    #we standardize first makeing the sample having mean 0 and variance 1\n",
    "    data_standard = preprocessing.scale(data)\n",
    "    #after that we need to group the data in small interval. \n",
    "    data_cut = pd.cut(data_standard,interval)\n",
    "    datafinal = data.groupby(data_cut)\n",
    "    plt.plot(np.linspace(3,-3,interval),datafinal.count())\n",
    "    return datafinal"
   ]
  },
  {
   "cell_type": "code",
   "execution_count": 83,
   "metadata": {
    "collapsed": true,
    "jupyter": {
     "outputs_hidden": true
    }
   },
   "outputs": [
    {
     "data": {
      "text/plain": [
       "(-4.968, -4.739]      2\n",
       "(-4.739, -4.522]      1\n",
       "(-4.522, -4.305]      3\n",
       "(-4.305, -4.088]      2\n",
       "(-4.088, -3.871]      0\n",
       "(-3.871, -3.653]      1\n",
       "(-3.653, -3.436]      1\n",
       "(-3.436, -3.219]      3\n",
       "(-3.219, -3.002]      3\n",
       "(-3.002, -2.784]      9\n",
       "(-2.784, -2.567]     11\n",
       "(-2.567, -2.35]       8\n",
       "(-2.35, -2.133]      13\n",
       "(-2.133, -1.916]      8\n",
       "(-1.916, -1.698]     21\n",
       "(-1.698, -1.481]     16\n",
       "(-1.481, -1.264]     42\n",
       "(-1.264, -1.047]     51\n",
       "(-1.047, -0.829]     89\n",
       "(-0.829, -0.612]    126\n",
       "(-0.612, -0.395]    156\n",
       "(-0.395, -0.178]    197\n",
       "(-0.178, 0.0395]    228\n",
       "(0.0395, 0.257]     209\n",
       "(0.257, 0.474]      188\n",
       "(0.474, 0.691]      138\n",
       "(0.691, 0.908]      123\n",
       "(0.908, 1.126]       83\n",
       "(1.126, 1.343]       60\n",
       "(1.343, 1.56]        45\n",
       "(1.56, 1.777]        17\n",
       "(1.777, 1.994]       21\n",
       "(1.994, 2.212]       13\n",
       "(2.212, 2.429]       10\n",
       "(2.429, 2.646]        8\n",
       "(2.646, 2.863]        1\n",
       "(2.863, 3.081]        2\n",
       "(3.081, 3.298]        0\n",
       "(3.298, 3.515]        1\n",
       "(3.515, 3.732]        1\n",
       "(3.732, 3.95]         1\n",
       "(3.95, 4.167]         4\n",
       "(4.167, 4.384]        0\n",
       "(4.384, 4.601]        1\n",
       "(4.601, 4.818]        0\n",
       "(4.818, 5.036]        1\n",
       "(5.036, 5.253]        0\n",
       "(5.253, 5.47]         0\n",
       "(5.47, 5.687]         0\n",
       "(5.687, 5.905]        1\n",
       "dtype: int64"
      ]
     },
     "execution_count": 83,
     "metadata": {},
     "output_type": "execute_result"
    },
    {
     "data": {
      "image/png": "[encoded data removed]",
      "text/plain": [
       "<Figure size 432x288 with 1 Axes>"
      ]
     },
     "metadata": {
      "needs_background": "light"
     },
     "output_type": "display_data"
    }
   ],
   "source": [
    "plotnormal(tickerslog['MSFT'],50).count()"
   ]
  },
  {
   "cell_type": "code",
   "execution_count": 200,
   "metadata": {},
   "outputs": [],
   "source": [
    "def confidence_interval_mean(data,prob):\n",
    "    #we use t distribution here since population variance is unknown\n",
    "    #µ lies in x bar +- t(a/2,n-1) * S/√n\n",
    "    \n",
    "    interval = [0,0]\n",
    "    #upper interval\n",
    "    interval[1] = np.mean(data)+(t.ppf(1-((1-prob)/2),data.count()-1)*np.std(data)/np.sqrt(data.count()))\n",
    "    #lower interval\n",
    "    interval[0] = np.mean(data)-(t.ppf(1-((1-prob)/2),data.count()-1)*np.std(data)/np.sqrt(data.count()))\n",
    "    return interval\n",
    "\n",
    "\n",
    "\n",
    "def confidence_interval_var(data,prob):\n",
    "    #we use chisquare here\n",
    "    interval = [0,0]\n",
    "    interval[1] = (data.count()-1)*np.var(data)/chi2.ppf(1-(1-prob)/2,data.count()-1)\n",
    "    interval[0] = (data.count()-1)*np.var(data)/chi2.ppf((1-prob)/2,data.count()-1)\n",
    "    return interval"
   ]
  },
  {
   "cell_type": "code",
   "execution_count": 210,
   "metadata": {},
   "outputs": [
    {
     "data": {
      "text/plain": [
       "[0.00010471490201098679, 0.0010391392622829797]"
      ]
     },
     "execution_count": 210,
     "metadata": {},
     "output_type": "execute_result"
    }
   ],
   "source": [
    "confidence_interval_mean(tickerslog['MSFT'],0.9)"
   ]
  },
  {
   "cell_type": "code",
   "execution_count": 206,
   "metadata": {},
   "outputs": [
    {
     "data": {
      "text/plain": [
       "2.5705818366147395"
      ]
     },
     "execution_count": 206,
     "metadata": {},
     "output_type": "execute_result"
    }
   ],
   "source": [
    "t.ppf(0.975,5)"
   ]
  },
  {
   "cell_type": "code",
   "execution_count": null,
   "metadata": {},
   "outputs": [],
   "source": []
  }
 ],
 "metadata": {
  "kernelspec": {
   "display_name": "Python 3",
   "language": "python",
   "name": "python3"
  },
  "language_info": {
   "codemirror_mode": {
    "name": "ipython",
    "version": 3
   },
   "file_extension": ".py",
   "mimetype": "text/x-python",
   "name": "python",
   "nbconvert_exporter": "python",
   "pygments_lexer": "ipython3",
   "version": "3.7.6"
  }
 },
 "nbformat": 4,
 "nbformat_minor": 4
}
